{
  "nbformat": 4,
  "nbformat_minor": 0,
  "metadata": {
    "colab": {
      "provenance": [],
      "authorship_tag": "ABX9TyOMiaHTKIjQIOjwajXhFlbl",
      "include_colab_link": true
    },
    "kernelspec": {
      "name": "python3",
      "display_name": "Python 3"
    },
    "language_info": {
      "name": "python"
    }
  },
  "cells": [
    {
      "cell_type": "markdown",
      "metadata": {
        "id": "view-in-github",
        "colab_type": "text"
      },
      "source": [
        "<a href=\"https://colab.research.google.com/github/antussa2016/Acodes2021/blob/main/lambda_and_comprehensions/lambda_functions.ipynb\" target=\"_parent\"><img src=\"https://colab.research.google.com/assets/colab-badge.svg\" alt=\"Open In Colab\"/></a>"
      ]
    },
    {
      "cell_type": "code",
      "execution_count": null,
      "metadata": {
        "id": "Ypz_7Dg3s3gC"
      },
      "outputs": [],
      "source": [
        "x = lambda x:x**2"
      ]
    },
    {
      "cell_type": "code",
      "source": [
        "x(9)"
      ],
      "metadata": {
        "colab": {
          "base_uri": "https://localhost:8080/"
        },
        "id": "S8fpv-TFtfWI",
        "outputId": "242aeab3-8186-4516-b11f-606d3214763a"
      },
      "execution_count": null,
      "outputs": [
        {
          "output_type": "execute_result",
          "data": {
            "text/plain": [
              "81"
            ]
          },
          "metadata": {},
          "execution_count": 3
        }
      ]
    },
    {
      "cell_type": "code",
      "source": [
        "a = lambda x,y: x+y"
      ],
      "metadata": {
        "id": "4GZcMTEntiM8"
      },
      "execution_count": null,
      "outputs": []
    },
    {
      "cell_type": "code",
      "source": [
        "a(4,5)"
      ],
      "metadata": {
        "colab": {
          "base_uri": "https://localhost:8080/"
        },
        "id": "lSDI_9_mtrzA",
        "outputId": "57be35e5-be35-4d77-bc13-aa61348ba68e"
      },
      "execution_count": null,
      "outputs": [
        {
          "output_type": "execute_result",
          "data": {
            "text/plain": [
              "9"
            ]
          },
          "metadata": {},
          "execution_count": 5
        }
      ]
    },
    {
      "cell_type": "code",
      "source": [
        "b = lambda x : x[0] =='a'"
      ],
      "metadata": {
        "id": "qBHKHfg4vj44"
      },
      "execution_count": null,
      "outputs": []
    },
    {
      "cell_type": "code",
      "source": [
        "b('apple')"
      ],
      "metadata": {
        "colab": {
          "base_uri": "https://localhost:8080/"
        },
        "id": "fVwrswJkvss-",
        "outputId": "0fba24ec-3df4-4758-896b-150b2d0973e6"
      },
      "execution_count": null,
      "outputs": [
        {
          "output_type": "execute_result",
          "data": {
            "text/plain": [
              "True"
            ]
          },
          "metadata": {},
          "execution_count": 7
        }
      ]
    },
    {
      "cell_type": "code",
      "source": [
        "b('ultimate')"
      ],
      "metadata": {
        "colab": {
          "base_uri": "https://localhost:8080/"
        },
        "id": "KypFpWhxvwbf",
        "outputId": "b7e0917e-9824-4bc9-c1ee-4862e79e50b9"
      },
      "execution_count": null,
      "outputs": [
        {
          "output_type": "execute_result",
          "data": {
            "text/plain": [
              "False"
            ]
          },
          "metadata": {},
          "execution_count": 8
        }
      ]
    },
    {
      "cell_type": "code",
      "source": [
        "b = lambda x : 'even' if x%2 == 0 else 'odd'"
      ],
      "metadata": {
        "id": "6JToBy_Iv5Dw"
      },
      "execution_count": null,
      "outputs": []
    },
    {
      "cell_type": "code",
      "source": [
        "b(8)"
      ],
      "metadata": {
        "colab": {
          "base_uri": "https://localhost:8080/",
          "height": 35
        },
        "id": "jstdlP6mwHI0",
        "outputId": "7e1e422f-84f4-4f12-edd3-d769fc146d5c"
      },
      "execution_count": null,
      "outputs": [
        {
          "output_type": "execute_result",
          "data": {
            "text/plain": [
              "'even'"
            ],
            "application/vnd.google.colaboratory.intrinsic+json": {
              "type": "string"
            }
          },
          "metadata": {},
          "execution_count": 10
        }
      ]
    },
    {
      "cell_type": "code",
      "source": [
        "#higher order function\n",
        "\n",
        "\n",
        "def return_sum(func,l):\n",
        "    result = 0\n",
        "\n",
        "    for i in l:\n",
        "        if func(i):\n",
        "            result = result+i\n",
        "    return result\n",
        "\n",
        "\n",
        "\n",
        "\n",
        "\n",
        "l = [11,12,34,56,76,77,90]\n",
        "\n",
        "X = lambda x:x%2==0\n",
        "Y = lambda x:x%2!=0\n",
        "Z = lambda x:x%3 == 0\n",
        "\n",
        "\n",
        "print(return_sum(X,l))\n",
        "print(return_sum(Y,l))\n",
        "print(return_sum(Z,l))\n",
        "\n"
      ],
      "metadata": {
        "colab": {
          "base_uri": "https://localhost:8080/"
        },
        "id": "oX_Qpp51wP_1",
        "outputId": "16a58ec2-2d50-489b-fb5a-ee4bcb99f26e"
      },
      "execution_count": null,
      "outputs": [
        {
          "output_type": "stream",
          "name": "stdout",
          "text": [
            "268\n",
            "88\n",
            "102\n"
          ]
        }
      ]
    },
    {
      "cell_type": "code",
      "source": [
        "# MAP\n",
        "# Filter\n",
        "# reduce"
      ],
      "metadata": {
        "id": "itpSWdro17Zp"
      },
      "execution_count": null,
      "outputs": []
    },
    {
      "cell_type": "code",
      "source": [
        "l = [1,2,3,4,5,6,7]\n",
        "\n",
        "list(map(lambda x:x*2, l))\n"
      ],
      "metadata": {
        "colab": {
          "base_uri": "https://localhost:8080/"
        },
        "id": "OgwMap2V2Ba1",
        "outputId": "15b93339-223a-4818-b5b9-eb48b7fe3358"
      },
      "execution_count": 1,
      "outputs": [
        {
          "output_type": "execute_result",
          "data": {
            "text/plain": [
              "[2, 4, 6, 8, 10, 12, 14]"
            ]
          },
          "metadata": {},
          "execution_count": 1
        }
      ]
    },
    {
      "cell_type": "code",
      "source": [
        "list(map(lambda x:x%2 == 0,l))"
      ],
      "metadata": {
        "id": "spNzS97_3xIv",
        "colab": {
          "base_uri": "https://localhost:8080/"
        },
        "outputId": "2ff81c50-2fc7-4853-8f86-28af103b0497"
      },
      "execution_count": 2,
      "outputs": [
        {
          "output_type": "execute_result",
          "data": {
            "text/plain": [
              "[False, True, False, True, False, True, False]"
            ]
          },
          "metadata": {},
          "execution_count": 2
        }
      ]
    },
    {
      "cell_type": "code",
      "source": [
        "students = [\n",
        "    {\n",
        "        \"name\" : \" Antu\",\n",
        "        \"father\" : \"Bacchu\",\n",
        "        \"address\" : \"Dhaka\"\n",
        "    },\n",
        "    {\n",
        "        \"name\" : \"sanjid\",\n",
        "        \"father\" : \"hasan\",\n",
        "        \"address\" : \"nawabgonj\"\n",
        "    },\n",
        "    {\n",
        "        \"name\" : \"sabah\",\n",
        "        \"father\" : \"rahman\",\n",
        "        \"address\" : \" bogra\"\n",
        "    }\n",
        "]"
      ],
      "metadata": {
        "id": "bLHEXb67g4b5"
      },
      "execution_count": 4,
      "outputs": []
    },
    {
      "cell_type": "code",
      "source": [
        "list(map(lambda student:student['name'],students))"
      ],
      "metadata": {
        "colab": {
          "base_uri": "https://localhost:8080/"
        },
        "id": "4DuX1UAuhslq",
        "outputId": "285a7ed1-212c-478c-87ae-4296b9fdffec"
      },
      "execution_count": 5,
      "outputs": [
        {
          "output_type": "execute_result",
          "data": {
            "text/plain": [
              "[' Antu', 'sanjid', 'sabah']"
            ]
          },
          "metadata": {},
          "execution_count": 5
        }
      ]
    },
    {
      "cell_type": "code",
      "source": [
        "list(filter(lambda x:x>4, l))"
      ],
      "metadata": {
        "colab": {
          "base_uri": "https://localhost:8080/"
        },
        "id": "kcSf-_0didq4",
        "outputId": "096ec228-9bc7-4adf-f081-66d05a2785ea"
      },
      "execution_count": 7,
      "outputs": [
        {
          "output_type": "execute_result",
          "data": {
            "text/plain": [
              "[5, 6, 7]"
            ]
          },
          "metadata": {},
          "execution_count": 7
        }
      ]
    },
    {
      "cell_type": "code",
      "source": [
        "fruits = ['apple','orange','mango','lichi']"
      ],
      "metadata": {
        "id": "BLeA9EOpi-qJ"
      },
      "execution_count": 8,
      "outputs": []
    },
    {
      "cell_type": "code",
      "source": [
        "list(filter(lambda fruit:'e' in fruit,fruits))"
      ],
      "metadata": {
        "colab": {
          "base_uri": "https://localhost:8080/"
        },
        "id": "b683rxXcjFhX",
        "outputId": "c73a15f6-7adc-480b-c2d7-8158a9976590"
      },
      "execution_count": 9,
      "outputs": [
        {
          "output_type": "execute_result",
          "data": {
            "text/plain": [
              "['apple', 'orange']"
            ]
          },
          "metadata": {},
          "execution_count": 9
        }
      ]
    },
    {
      "cell_type": "code",
      "source": [
        "import functools"
      ],
      "metadata": {
        "id": "N3rUOraUjsh4"
      },
      "execution_count": 10,
      "outputs": []
    },
    {
      "cell_type": "code",
      "source": [
        "functools.reduce(lambda x,y:x+y,l)"
      ],
      "metadata": {
        "colab": {
          "base_uri": "https://localhost:8080/"
        },
        "id": "zT70LL1-j7Wj",
        "outputId": "d351207b-8b80-4e3b-e136-ba0c6b60ccd6"
      },
      "execution_count": 11,
      "outputs": [
        {
          "output_type": "execute_result",
          "data": {
            "text/plain": [
              "28"
            ]
          },
          "metadata": {},
          "execution_count": 11
        }
      ]
    },
    {
      "cell_type": "code",
      "source": [
        "functools.reduce(lambda x,y:x if x>y else y,l)"
      ],
      "metadata": {
        "colab": {
          "base_uri": "https://localhost:8080/"
        },
        "id": "TUGo5srKklhr",
        "outputId": "ffd5ca05-0e9e-45eb-d4d2-326b6f592325"
      },
      "execution_count": 12,
      "outputs": [
        {
          "output_type": "execute_result",
          "data": {
            "text/plain": [
              "7"
            ]
          },
          "metadata": {},
          "execution_count": 12
        }
      ]
    },
    {
      "cell_type": "code",
      "source": [
        "functools.reduce(lambda x,y:x if x<y else y,l)"
      ],
      "metadata": {
        "colab": {
          "base_uri": "https://localhost:8080/"
        },
        "id": "AeZ42uD3ks_p",
        "outputId": "1cd15716-25de-4599-9204-491f91036a1f"
      },
      "execution_count": 13,
      "outputs": [
        {
          "output_type": "execute_result",
          "data": {
            "text/plain": [
              "1"
            ]
          },
          "metadata": {},
          "execution_count": 13
        }
      ]
    },
    {
      "cell_type": "code",
      "source": [
        "#list comprehension\n",
        "\n",
        "l1 = [item*2 for item in l]\n",
        "l1"
      ],
      "metadata": {
        "colab": {
          "base_uri": "https://localhost:8080/"
        },
        "id": "YOnjC1LTlUD3",
        "outputId": "8728c21a-dca9-4b12-f1fd-285e6c67a947"
      },
      "execution_count": 15,
      "outputs": [
        {
          "output_type": "execute_result",
          "data": {
            "text/plain": [
              "[2, 4, 6, 8, 10, 12, 14]"
            ]
          },
          "metadata": {},
          "execution_count": 15
        }
      ]
    },
    {
      "cell_type": "code",
      "source": [
        "l2 = [i*2 for i in range(1,10)]\n",
        "l2"
      ],
      "metadata": {
        "colab": {
          "base_uri": "https://localhost:8080/"
        },
        "id": "cf2u9q_eloVz",
        "outputId": "3c4ba1df-8fdf-4cec-eb32-ee85f2234847"
      },
      "execution_count": 19,
      "outputs": [
        {
          "output_type": "execute_result",
          "data": {
            "text/plain": [
              "[2, 4, 6, 8, 10, 12, 14, 16, 18]"
            ]
          },
          "metadata": {},
          "execution_count": 19
        }
      ]
    },
    {
      "cell_type": "code",
      "source": [
        "l3 = [i for i in range(1,10) if i%2!=0]\n",
        "l3"
      ],
      "metadata": {
        "colab": {
          "base_uri": "https://localhost:8080/"
        },
        "id": "oHu_6E8OmGfX",
        "outputId": "44e2cb2b-c1c9-4a11-f7af-302e8bf2ed41"
      },
      "execution_count": 24,
      "outputs": [
        {
          "output_type": "execute_result",
          "data": {
            "text/plain": [
              "[1, 3, 5, 7, 9]"
            ]
          },
          "metadata": {},
          "execution_count": 24
        }
      ]
    },
    {
      "cell_type": "code",
      "source": [
        "l4 = [fruit for fruit in fruits if fruit[0]==\"a\"]\n",
        "l4"
      ],
      "metadata": {
        "colab": {
          "base_uri": "https://localhost:8080/"
        },
        "id": "MVuqRJt5m2kx",
        "outputId": "5ebd8aac-4f06-4126-e4f6-42265d7e27ce"
      },
      "execution_count": 26,
      "outputs": [
        {
          "output_type": "execute_result",
          "data": {
            "text/plain": [
              "['apple']"
            ]
          },
          "metadata": {},
          "execution_count": 26
        }
      ]
    },
    {
      "cell_type": "code",
      "source": [
        "#dicionary comprehension\n",
        "\n",
        "d ={\"name\":\"maria\",\"gender\":\"female\",\"age\":30}\n",
        "d.items()\n",
        "d1 = {key:value for key,value in d.items() if len(key)>4}\n",
        "d1"
      ],
      "metadata": {
        "colab": {
          "base_uri": "https://localhost:8080/"
        },
        "id": "M4mude00nGZN",
        "outputId": "ac6b2906-dc44-4b61-9645-0c881b3bbd0b"
      },
      "execution_count": 38,
      "outputs": [
        {
          "output_type": "execute_result",
          "data": {
            "text/plain": [
              "{'gender': 'female'}"
            ]
          },
          "metadata": {},
          "execution_count": 38
        }
      ]
    },
    {
      "cell_type": "code",
      "source": [
        "student_scores = {\n",
        "    \"Alice\": 85,\n",
        "    \"Bob\": 72,\n",
        "    \"Charlie\": 90,\n",
        "    \"David\": 60,\n",
        "    \"Eve\": 95\n",
        "}\n",
        "\n",
        "passing_scores = {student: score for student, score in student_scores.items() if score >= 75}\n",
        "print(passing_scores)"
      ],
      "metadata": {
        "colab": {
          "base_uri": "https://localhost:8080/"
        },
        "id": "xLkTHfp8qDBl",
        "outputId": "d69fa334-ea75-45d1-f669-23d72adec8b1"
      },
      "execution_count": 37,
      "outputs": [
        {
          "output_type": "stream",
          "name": "stdout",
          "text": [
            "{'Alice': 85, 'Charlie': 90, 'Eve': 95}\n"
          ]
        }
      ]
    }
  ]
}